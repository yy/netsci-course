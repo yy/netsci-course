{
  "cells": [
    {
      "cell_type": "markdown",
      "metadata": {
        "id": "qZYixNXYvPjf"
      },
      "source": [
        "<table class=\"m01-notebook-buttons\" align=\"left\">\n",
        "  <td>\n",
        "    <a target=\"_blank\" href=\"https://colab.research.google.com/github/yy/netsci-course/blob/master/m03-smallworld/shortest_path_length_distribution.ipynb\"><img src=\"https://www.tensorflow.org/images/colab_logo_32px.png\" />Run in Google Colab</a>\n",
        "  </td>\n",
        "  <td>\n",
        "    <a href=\"https://github.com/yy/netsci-course/blob/master/m03-smallworld/shortest_path_length_distribution.ipynb\"><img src=\"https://www.tensorflow.org/images/GitHub-Mark-32px.png\" />View on Github</a>\n",
        "  </td>\n",
        "</table>"
      ]
    },
    {
      "cell_type": "markdown",
      "metadata": {
        "id": "FvWP-BfRvPjh"
      },
      "source": [
        "# Module 3 Assignment\n",
        "\n",
        "Let's calculate and see the distribution of the path lengths of a graph. First we will generate a random graph which we will use for the assignment."
      ]
    },
    {
      "cell_type": "code",
      "execution_count": 1,
      "metadata": {
        "colab": {
          "base_uri": "https://localhost:8080/"
        },
        "id": "NMSXtVgXvPji",
        "outputId": "43b22efb-b112-4eee-fbe9-c2d66e88e994"
      },
      "outputs": [
        {
          "name": "stdout",
          "output_type": "stream",
          "text": [
            "Graph with 1200 nodes and 5769 edges\n"
          ]
        }
      ],
      "source": [
        "# Use this random seed for submission.\n",
        "import random\n",
        "import numpy as np\n",
        "import networkx as nx\n",
        "import matplotlib.pyplot as plt\n",
        "\n",
        "\n",
        "random.seed(42)        \n",
        "np.random.seed(42)\n",
        "\n",
        "random_graph = nx.erdos_renyi_graph(1200, 0.008, seed=42)\n",
        "print(nx.info(random_graph))"
      ]
    },
    {
      "cell_type": "markdown",
      "metadata": {
        "id": "eJmwKPcyvPjj"
      },
      "source": [
        "## Let's write a function to calculate shortest path lengths\n",
        "\n",
        "**Q**: Given a graph and a source node, we can perform the BFS to calculate all shortest paths from the source to all other nodes in the graph. Can you write this function? We are assuming that the network is undirected and unweighted. Test your function with very small examples. \n",
        "\n",
        "If you really can't do it, just use Networkx's [shortest path length function](https://networkx.github.io/documentation/stable/reference/algorithms/generated/networkx.algorithms.shortest_paths.generic.shortest_path_length.html#networkx.algorithms.shortest_paths.generic.shortest_path_length). \n",
        "\n"
      ]
    },
    {
      "cell_type": "code",
      "execution_count": 2,
      "metadata": {
        "id": "g4Q47kg5vPjj"
      },
      "outputs": [],
      "source": [
        "# Your code here\n",
        "# def shortest_path_lengths(G, source):\n",
        "#     ...\n",
        "\n"
      ]
    },
    {
      "cell_type": "code",
      "execution_count": 3,
      "metadata": {
        "id": "CJsElcKenv89"
      },
      "outputs": [],
      "source": [
        "# The following should be satisfied if the path lengths are calculated correctly. \n",
        "G = nx.Graph()\n",
        "G.add_edges_from([(0, 1), (0,2), (1, 3), (3, 4), (1,4)])\n",
        "assert shortest_path_lengths(G, 0) == {0: 0, 1: 1, 2: 1, 3: 2, 4: 2} "
      ]
    },
    {
      "cell_type": "markdown",
      "metadata": {
        "id": "MwvW4PEQhj33"
      },
      "source": [
        "\n",
        "**Q**: Next, write a function that converts the results into a [`counter`](https://docs.python.org/3/library/collections.html#collections.Counter). For instance, if the result of `shortest_path_lengths()` was `{0: 0, 1: 1, 2: 1, 3: 2, 4: 2}`, then this function will conver this result and return `Counter({0: 1, 1: 2, 2: 2})` because there was one node (`0`) with distance 0, two nodes (`1` and `2`) with distance 1, and two nodes (`3` and `4`) with dstance 2. "
      ]
    },
    {
      "cell_type": "code",
      "execution_count": 4,
      "metadata": {
        "id": "c24vruOimmFN"
      },
      "outputs": [],
      "source": [
        "# Your code here\n",
        "# def count_path_lengths(distances):\n",
        "#     pass\n",
        "\n"
      ]
    },
    {
      "cell_type": "code",
      "execution_count": 5,
      "metadata": {
        "id": "6HqDT4s4n0mt"
      },
      "outputs": [],
      "source": [
        "# this should be satisfied. \n",
        "assert count_path_lengths({0: 0, 1: 1, 2: 1, 3: 2, 4: 2}) == Counter({0: 1, 1: 2, 2: 2})"
      ]
    },
    {
      "cell_type": "markdown",
      "metadata": {
        "id": "eqAXaGblvPjj"
      },
      "source": [
        "**Q**: Now we can compute the path length distribution across all pairs of nodes in a network."
      ]
    },
    {
      "cell_type": "code",
      "execution_count": 6,
      "metadata": {
        "colab": {
          "base_uri": "https://localhost:8080/"
        },
        "id": "6R_NW2f7vPjj",
        "outputId": "fad5096b-36b9-4a1b-f179-262a7532ef50"
      },
      "outputs": [
        {
          "data": {
            "text/plain": [
              "Counter({0: 1200, 1: 11538, 2: 105010, 3: 647506, 4: 660138, 5: 14606, 6: 2})"
            ]
          },
          "execution_count": 6,
          "metadata": {},
          "output_type": "execute_result"
        }
      ],
      "source": [
        "# Your code here\n"
      ]
    },
    {
      "cell_type": "markdown",
      "metadata": {
        "id": "3rksfTe3vPjk"
      },
      "source": [
        "## Visualizing the results\n",
        "**Q**: Now that you have a list of the shortest paths for the graph, make a histogram for it. This can be done with `matploblib`'s [`bar()`](https://matplotlib.org/stable/api/_as_gen/matplotlib.pyplot.bar.html) function. The following code snippets may be useful. "
      ]
    },
    {
      "cell_type": "code",
      "execution_count": 7,
      "metadata": {
        "colab": {
          "base_uri": "https://localhost:8080/"
        },
        "id": "o8uwvcx0peFD",
        "outputId": "510e78d9-1890-4047-95f1-68580796b28d"
      },
      "outputs": [
        {
          "data": {
            "text/plain": [
              "dict_items([(0, 10), (1, 20), (2, 10), (3, 1)])"
            ]
          },
          "execution_count": 7,
          "metadata": {},
          "output_type": "execute_result"
        }
      ],
      "source": [
        "a_counter = Counter({0:10, 1:20, 2:10, 3:1})\n",
        "a_counter.items()"
      ]
    },
    {
      "cell_type": "code",
      "execution_count": 8,
      "metadata": {
        "colab": {
          "base_uri": "https://localhost:8080/"
        },
        "id": "9ErDs0wYpr3G",
        "outputId": "51e11419-d2a4-4441-942c-be2673906989"
      },
      "outputs": [
        {
          "data": {
            "text/plain": [
              "[(0, 1, 2, 3), (10, 20, 10, 1)]"
            ]
          },
          "execution_count": 8,
          "metadata": {},
          "output_type": "execute_result"
        }
      ],
      "source": [
        "list(zip(*a_counter.items()))"
      ]
    },
    {
      "cell_type": "code",
      "execution_count": 9,
      "metadata": {
        "colab": {
          "base_uri": "https://localhost:8080/",
          "height": 296
        },
        "id": "tg48ZnacvPjk",
        "outputId": "aedd12bb-094e-4886-f402-ebc67975264c"
      },
      "outputs": [
        {
          "data": {
            "text/plain": [
              "<BarContainer object of 7 artists>"
            ]
          },
          "execution_count": 9,
          "metadata": {},
          "output_type": "execute_result"
        },
        {
          "data": {
            "image/png": "[encoded data removed]",
            "text/plain": [
              "<Figure size 432x288 with 1 Axes>"
            ]
          },
          "metadata": {
            "needs_background": "light"
          },
          "output_type": "display_data"
        }
      ],
      "source": [
        "# Your code here\n"
      ]
    },
    {
      "cell_type": "markdown",
      "metadata": {
        "id": "1Ct7Zr2WqGRC"
      },
      "source": [
        "**Q**: We can now also calculate the average path length of the whole network by averaging the path lengths. "
      ]
    },
    {
      "cell_type": "code",
      "execution_count": 10,
      "metadata": {
        "colab": {
          "base_uri": "https://localhost:8080/"
        },
        "id": "zWFWD7XnqLbX",
        "outputId": "5d37460c-d9e5-48cf-fd53-d7761f470c25"
      },
      "outputs": [
        {
          "data": {
            "text/plain": [
              "3.390095913261051"
            ]
          },
          "execution_count": 10,
          "metadata": {},
          "output_type": "execute_result"
        }
      ],
      "source": [
        "# Your code here\n"
      ]
    },
    {
      "cell_type": "markdown",
      "metadata": {
        "id": "XzgjpnW-ryMd"
      },
      "source": [
        "Can you make it as a function? "
      ]
    },
    {
      "cell_type": "code",
      "execution_count": 11,
      "metadata": {
        "id": "pJmoIEurvPjl"
      },
      "outputs": [],
      "source": [
        "# Your code here\n",
        "# def avg_path_length(path_length_counter):\n"
      ]
    },
    {
      "cell_type": "markdown",
      "metadata": {
        "id": "793_3mbNdxwu"
      },
      "source": [
        "## How does it scale?\n",
        "\n",
        "Now go to https://icon.colorado.edu/#!/ and download multiple (at least three) networks that span a range of scale. For instance, pick a couple of networks with ~1000 nodes and then ~10000 nodes, and so on. Be careful with large networks! Calculating shortest paths is an expensive computation and it may take too much time! Stick with not-so-large and not-too-small networks, but do experiment how far you can push. \n",
        "\n",
        "**Q**: Using your code above, calculate the average path length of each network. While doing so, also measure how long it takes to compute the result using either `%%time` or `%%timeit` magics. `%%timeit` runs the code multiple times to get a better estimate. So it may not be suitable for large networks. \n"
      ]
    },
    {
      "cell_type": "code",
      "execution_count": 12,
      "metadata": {
        "colab": {
          "base_uri": "https://localhost:8080/"
        },
        "id": "-2AahtobeeCj",
        "outputId": "814e25a7-86fc-4e0a-d7d2-d43f7e974144"
      },
      "outputs": [
        {
          "name": "stdout",
          "output_type": "stream",
          "text": [
            "10 loops, best of 5: 70.4 ms per loop\n"
          ]
        }
      ],
      "source": [
        "%%timeit\n",
        "sum = 0\n",
        "for i in range(1000000):\n",
        "    sum += i\n",
        "  "
      ]
    },
    {
      "cell_type": "code",
      "execution_count": 13,
      "metadata": {
        "colab": {
          "base_uri": "https://localhost:8080/"
        },
        "id": "2T98g9Vnsozd",
        "outputId": "291a19dc-b17c-4014-df19-ccc3a932fdf6"
      },
      "outputs": [
        {
          "name": "stdout",
          "output_type": "stream",
          "text": [
            "CPU times: user 125 ms, sys: 0 ns, total: 125 ms\n",
            "Wall time: 126 ms\n"
          ]
        }
      ],
      "source": [
        "%%time\n",
        "sum = 0\n",
        "for i in range(1000000):\n",
        "    sum += i"
      ]
    },
    {
      "cell_type": "markdown",
      "metadata": {
        "id": "w4dw218usswu"
      },
      "source": [
        "**Q**: now make two plots. The first one is about the relationship between the number of nodes in a network and its average path length. Test whether they have a roughly logarithmic relationship $ d \\sim \\log N$ or not. Also explore how the execution time scales with the number of nodes ($|V|$) & the number of edges ($|E|$). Is it proportional to $|V|\\cdot|E|$? "
      ]
    },
    {
      "cell_type": "code",
      "execution_count": 13,
      "metadata": {
        "id": "xXXSnLKhtO8L"
      },
      "outputs": [],
      "source": []
    }
  ],
  "metadata": {
    "anaconda-cloud": {},
    "colab": {
      "collapsed_sections": [],
      "name": "m03-pathlength.ipynb",
      "provenance": []
    },
    "kernelspec": {
      "display_name": "Python 3",
      "language": "python",
      "name": "python3"
    },
    "language_info": {
      "codemirror_mode": {
        "name": "ipython",
        "version": 3
      },
      "file_extension": ".py",
      "mimetype": "text/x-python",
      "name": "python",
      "nbconvert_exporter": "python",
      "pygments_lexer": "ipython3",
      "version": "3.6.7"
    }
  },
  "nbformat": 4,
  "nbformat_minor": 0
}
