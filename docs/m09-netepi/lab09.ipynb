{
 "cells": [
  {
   "attachments": {},
   "cell_type": "markdown",
   "metadata": {
    "id": "_oaQGMHSBltD"
   },
   "source": [
    "# Network Epidemiology\n",
    "\n",
    "<div style=\"display: flex; align-items: center;\">\n",
    "    <a target=\"_blank\" href=\"https://colab.research.google.com/github/yy/netsci-course/blob/master/docs/m09-netepi/lab09.ipynb\">\n",
    "        <img src=\"https://www.tensorflow.org/images/colab_logo_32px.png\" style=\"vertical-align: -8px; margin-right: 10px;\" />\n",
    "        Open this notebook in Google Colab\n",
    "    </a>\n",
    "</div>\n",
    "\n",
    "\n",
    "<div style=\"display: flex; align-items: center;\">\n",
    "    <a href=\"https://raw.githubusercontent.com/yy/netsci-course/master/docs/m09-netepi/lab09.ipynb\" download>\n",
    "        <img src=\"http://yyahn.com/netsci-course/images/download_icon.png\" style=\"vertical-align: -8px; margin-right: 10px;\" />\n",
    "        Download this notebook (File -> Save As)\n",
    "    </a>\n",
    "</div>"
   ]
  },
  {
   "attachments": {},
   "cell_type": "markdown",
   "metadata": {
    "id": "et3I3l-iBltF"
   },
   "source": [
    "You may remember the March of 2020. 👀\n",
    "\n",
    "<img src=\"https://yyiki.s3.us-east-2.amazonaws.com/public/imgs/month_of_2020-time_spent_looking_at_exponential_graphs.jpg\" width=\"400\">\n",
    "\n",
    "It was crazy how everything in our lives was suddenly governed by this new pathogen. It was a time when we all became armchair epidemiologists. We were all trying to understand the exponential growth of the virus and how it was spreading across the world. We were all trying to understand the basic reproduction number $R_0$ and how it was affecting the spread of the virus.\n",
    "\n",
    "Let's bring back some of that excitement(?) and learn how network perspectives can help us understand the spread of infectious diseases!\n",
    "\n",
    "## Friendship paradox, again. \n",
    "\n",
    "The first and probably the most important insight that network science can provide to epidemiology is the biased sampling happening in an epidemic. This is the exactly same bias that we saw in the friendship paradox.\n",
    "\n",
    "Imagine a contact network through which a disease is spreading. Imagine that someone in the network just caught the virus and will spread to their neighbors. In this case, who will be the most likely to be the next victim of the virus? If every contact is equally likely to be infected, then the probability is proportional to the likelihood of them _appearing_ in the contact list of the infected. And as we have learned multiple times, this is roughly proportional to the degree of the node due to the friendship paradox! \n",
    "\n",
    "Let's quickly simulate this. "
   ]
  },
  {
   "cell_type": "code",
   "execution_count": 1,
   "metadata": {
    "executionInfo": {
     "elapsed": 408,
     "status": "ok",
     "timestamp": 1648464750012,
     "user": {
      "displayName": "Yong Yeol Ahn",
      "photoUrl": "https://lh3.googleusercontent.com/a/default-user=s64",
      "userId": "00405984523192108505"
     },
     "user_tz": 240
    },
    "id": "W2gd8rYsBltF"
   },
   "outputs": [
    {
     "name": "stdout",
     "output_type": "stream",
     "text": [
      "index:  768\n",
      "secondary:  [8, 71]\n",
      "degree of index:  4\n",
      "degree of secondary:  [56, 33]\n"
     ]
    }
   ],
   "source": [
    "import networkx as nx\n",
    "import random\n",
    "\n",
    "G = nx.barabasi_albert_graph(1000, 4)\n",
    "\n",
    "# sample a random node as the initial infected node (index case)\n",
    "index_node = random.choice(list(G.nodes()))\n",
    "secondary_infections = [\n",
    "    node for node in G.neighbors(index_node) if random.random() < 0.5\n",
    "]\n",
    "print(\"index: \", index_node)\n",
    "print(\"secondary: \", secondary_infections)\n",
    "print(\"degree of index: \", G.degree(index_node))\n",
    "print(\"degree of secondary: \", [G.degree(node) for node in secondary_infections])"
   ]
  },
  {
   "cell_type": "markdown",
   "metadata": {},
   "source": [
    "Let's repeat many times to get the degree distribution (use CCDF). "
   ]
  },
  {
   "cell_type": "code",
   "execution_count": 2,
   "metadata": {},
   "outputs": [
    {
     "data": {
      "image/png": "[encoded data removed]",
      "text/plain": [
       "<Figure size 640x480 with 1 Axes>"
      ]
     },
     "metadata": {},
     "output_type": "display_data"
    }
   ],
   "source": [
    "# repeat the simple simulation to obtain the degree distribution of the index and secondary nodes.\n",
    "# The degree distribution of the secondary nodes is expected to be different from the index node.\n",
    "import matplotlib.pyplot as plt\n",
    "import numpy as np\n",
    "\n",
    "N = 1000\n",
    "infection_probability = 0.5\n",
    "index_degrees = []\n",
    "secondary_degrees = []\n",
    "\n",
    "# YOUR SOLUTION HERE"
   ]
  },
  {
   "cell_type": "markdown",
   "metadata": {},
   "source": [
    "As we expected, the secondary infection is more likely to happen to the nodes with higher degree. If you are well-connected, then you're more likely to get infected! "
   ]
  },
  {
   "cell_type": "markdown",
   "metadata": {},
   "source": [
    "## Generating functions, contact tracing, and friendship paradox\n",
    "\n",
    "One fascinating implication of this happens in the context of contact tracing, which I published during the pandemic: [Kojaku et al., The effectiveness of backward contact tracing in networks, Nature Physics, 2021](https://www.nature.com/articles/s41567-021-01187-2). \n",
    "\n",
    "Let's first write down the generating function for the degree distribution of the underlying network. With the degree distribution represented by $\\{ p_k \\}$, the probability generating function is written as:\n",
    "\n",
    "$$ G_0(x) = \\sum_k p_k x^k. $$"
   ]
  },
  {
   "cell_type": "markdown",
   "metadata": {},
   "source": [
    "Now, imagine a node with degree $k$ that has just infected by another node. If we think about the remaining degree that the infected node can further spread the disease, that's $k-1$ (because one of the edges is already used to infect the current node). Then the generating function for the remaining degree (that the node can propagate the disease) distribution is:\n",
    "\n",
    "$$ G_1(x) = \\frac{1}{\\langle k \\rangle} \\sum_k k p_k x^{k-1} = \\frac{G_0'(x)}{G_0'(1)}. $$"
   ]
  },
  {
   "cell_type": "markdown",
   "metadata": {},
   "source": [
    "This means that, if we randomly sample those who are infected, then we expect to see this distribution. \n",
    "\n",
    "Interestingly, when we do contact tracing, another factor comes into play. First, think about two directions of contact tracing. When we found an infected person, we can try to identify who infected this person (backward contact tracing) or whom this person infected (forward contact tracing).\n",
    "\n",
    "Forward tracing will produce the same distribution because we are simply following the edge to sample a new node, which is, according to the friendship paradox principle, the same as $G_1(x)$.\n",
    "\n",
    "By contrast, backward tracing will produce a different distribution. This is because the more \"offspring\" a node has created, the more likely it is to be sampled! This is another bias that comes into play. \n",
    "\n",
    "<img src=\"https://yyiki.s3.us-east-2.amazonaws.com/public/imgs/backward_contact_tracing_illustration-fig1.png\" width=600>"
   ]
  },
  {
   "cell_type": "markdown",
   "metadata": {},
   "source": [
    "As you can see from this figure (d), the \"parent\" with more \"offsprings\" is more likely to be sampled and the factor is their degree in the transmission tree. If you work out the generating function for this distribution, it simply turns out to be:\n",
    "\n",
    "$$ G_2(x) = \\frac{G'_1(x)}{G'_1(1)} = \\frac{1}{\\sum_k k(k-1)p_k} \\sum_k k(k-1)p_k x^{k-2}. $$"
   ]
  },
  {
   "cell_type": "markdown",
   "metadata": {},
   "source": [
    "And this means that the degree distribution sampled from backward contact tracing process is _even more_ biased towards the nodes with higher degree ($\\sim k^2 p_k$)!"
   ]
  },
  {
   "cell_type": "markdown",
   "metadata": {},
   "source": [
    "Here's an **extra credit** question (10pts): **Can you show these three degree distributions by running simple simulations?** It is essentially Fig. 2a in the paper: https://www.nature.com/articles/s41567-021-01187-2/figures/2 "
   ]
  },
  {
   "cell_type": "code",
   "execution_count": null,
   "metadata": {},
   "outputs": [],
   "source": []
  },
  {
   "cell_type": "markdown",
   "metadata": {},
   "source": [
    "The first degree distribution is easy. It is just the degree distribution of the network. The second one is what we did above (randomly sampling infected nodes). You just need to plot the correct, expected degree distribution. The last one is a bit tricky. You'll need to simulate the transmission at least for a few steps and keep track of \"parents\" of the infected nodes so that we can trace back to them. "
   ]
  },
  {
   "attachments": {},
   "cell_type": "markdown",
   "metadata": {
    "id": "7U8uddN0LPf3"
   },
   "source": [
    "## SI model\n",
    "\n",
    "Let's do a quick and dirty implementation of the simplest model, the SI model. In this model, every node is in one of the two states: susceptible (S) or infected (I). When a susceptible node is infected, it becomes infected and stays infected forever. The infected nodes can infect their neighbors with a certain probability.\n",
    "\n",
    "Given a network $G$, we can start with initializing the state of the nodes. Note that we are using a list of states to keep track of how the state changes over time for every node. "
   ]
  },
  {
   "cell_type": "code",
   "execution_count": 3,
   "metadata": {
    "colab": {
     "base_uri": "https://localhost:8080/"
    },
    "executionInfo": {
     "elapsed": 263,
     "status": "ok",
     "timestamp": 1648465170308,
     "user": {
      "displayName": "Yong Yeol Ahn",
      "photoUrl": "https://lh3.googleusercontent.com/a/default-user=s64",
      "userId": "00405984523192108505"
     },
     "user_tz": 240
    },
    "id": "xzPd867cLPRQ",
    "outputId": "9adbd7a0-343e-4475-c631-87a52d095c55"
   },
   "outputs": [],
   "source": [
    "def initalize_graph(G):\n",
    "    for node in G.nodes():\n",
    "        G.nodes[node][\"state\"] = [\"S\"]\n",
    "    return G"
   ]
  },
  {
   "attachments": {},
   "cell_type": "markdown",
   "metadata": {
    "id": "YPA1eSbCLmGg"
   },
   "source": [
    "Now we can randomly choose a certain fraction of nodes and mark them as initially infected using `choice()` function in numpy. "
   ]
  },
  {
   "cell_type": "code",
   "execution_count": 10,
   "metadata": {
    "colab": {
     "base_uri": "https://localhost:8080/"
    },
    "executionInfo": {
     "elapsed": 8,
     "status": "ok",
     "timestamp": 1648465374102,
     "user": {
      "displayName": "Yong Yeol Ahn",
      "photoUrl": "https://lh3.googleusercontent.com/a/default-user=s64",
      "userId": "00405984523192108505"
     },
     "user_tz": 240
    },
    "id": "aIMIziOZL-8w",
    "outputId": "dc2b6bf8-30b8-48dc-8c1f-e7b8dbc32fd3"
   },
   "outputs": [
    {
     "data": {
      "text/plain": [
       "{112, 453, 489, 704, 924}"
      ]
     },
     "execution_count": 10,
     "metadata": {},
     "output_type": "execute_result"
    }
   ],
   "source": [
    "init_infected_fraction = 0.005\n",
    "init_infected = set(\n",
    "    np.random.choice(\n",
    "        G.nodes(), size=int(len(G) * init_infected_fraction), replace=False\n",
    "    )\n",
    ")\n",
    "init_infected"
   ]
  },
  {
   "attachments": {},
   "cell_type": "markdown",
   "metadata": {
    "id": "Da9t1uoCMgEq"
   },
   "source": [
    "We should set these nodes' states to be `I` and then we can begin the simulation. "
   ]
  },
  {
   "cell_type": "code",
   "execution_count": 12,
   "metadata": {
    "colab": {
     "base_uri": "https://localhost:8080/"
    },
    "executionInfo": {
     "elapsed": 510,
     "status": "ok",
     "timestamp": 1648465499752,
     "user": {
      "displayName": "Yong Yeol Ahn",
      "photoUrl": "https://lh3.googleusercontent.com/a/default-user=s64",
      "userId": "00405984523192108505"
     },
     "user_tz": 240
    },
    "id": "RgO-hI6AMpUq",
    "outputId": "afc43957-b2c4-4fc8-d03b-7444e085c9ed"
   },
   "outputs": [
    {
     "name": "stdout",
     "output_type": "stream",
     "text": [
      "['S']\n",
      "['I']\n"
     ]
    }
   ],
   "source": [
    "G = initalize_graph(G)\n",
    "for node in init_infected:\n",
    "    G.nodes[node][\"state\"][0] = \"I\"\n",
    "print(G.nodes[0][\"state\"])\n",
    "print(G.nodes[112][\"state\"])"
   ]
  },
  {
   "attachments": {},
   "cell_type": "markdown",
   "metadata": {
    "id": "Cuh5w7hPNULr"
   },
   "source": [
    "But how should we update the states and run the simulation? \n",
    "\n",
    "There is an important issue here. If we immediately change the state of a particular node, that may affect the updating of other nodes! Imagine an extreme case where we are simulating a highly infectious disease on a chain-like network where node 0 is connected to node 1, node 1 is connected to node 0 and 2, and so on. In the simulation we are going through each node one by one from node 0 to node N and update them immediately. But it happens to be that node 0 was infected. Then, it can propagate to many nodes within a single time step because it is possible that node 1 gets updated to be infected by node 0, and then node 2 gets infected by node 1, and so on. This is clearly unrealistic. \n",
    "\n",
    "If we change a node's state, then the next node will be updating with respect to a network that is now in a different state!\n",
    "\n",
    "When modelling discrete-time dynamical systems there are generally two different update strategies: synchronous and asynchronous updating. In the asynchronous updating, a random node is picked and its state is updated according to the current network state. In the synchronous updating, there is a global time clock that all nodes are synced to, so nodes only update according to the state of the network at the _current time-step_ and all nodes move to the next time step simultaneously.    \n",
    "\n",
    "Choosing the updating scheme can have a huge impact on dynamics. We will be using the synchronous updating scheme, which means we need to store the _next state_ of the system before updating everyone all at once. There are many ways to accomplish this, but for the sake of simplicity, we will just keep the whole history. "
   ]
  },
  {
   "cell_type": "code",
   "execution_count": 13,
   "metadata": {
    "executionInfo": {
     "elapsed": 208,
     "status": "ok",
     "timestamp": 1648467910491,
     "user": {
      "displayName": "Yong Yeol Ahn",
      "photoUrl": "https://lh3.googleusercontent.com/a/default-user=s64",
      "userId": "00405984523192108505"
     },
     "user_tz": 240
    },
    "id": "BunVNgrZBltG"
   },
   "outputs": [],
   "source": [
    "def run_SI(graph, tmax: int, beta: float, initial_inf: float):\n",
    "    \"\"\"Runs the SI model on the given graph with given parameters.\n",
    "\n",
    "    Parameters\n",
    "    ----------\n",
    "    graph : networkx graph object\n",
    "        The network (graph) on which the simulation will be run\n",
    "    tmax : int\n",
    "        The maximum time step that we will run the model\n",
    "    beta : float\n",
    "        The transmission probability\n",
    "    initial_inf : float\n",
    "        The initial fraction of infected nodes\n",
    "\n",
    "    Returns\n",
    "    -------\n",
    "    list[float]\n",
    "        the time-series of the fraction of infected nodes\n",
    "    \"\"\"\n",
    "    # First lets generate a set of initially infected nodes.\n",
    "    init_infected = set(\n",
    "        np.random.choice(\n",
    "            graph.nodes(), size=int(len(graph) * initial_inf), replace=False\n",
    "        )\n",
    "    )\n",
    "\n",
    "    # The code below uses a dictionary comprehension to generate a dictionary\n",
    "    # with keys=nodes and values=infection states. The \"I\" is for infected\n",
    "    # and \"S\" is for susceptible. We then give that dictionary to networkx's\n",
    "    # attribute function which then gives all the nodes the 'state' attribute.\n",
    "\n",
    "    # YOUR SOLUTION HERE\n",
    "\n",
    "    # Now we need to loop through for `tmax` time step. One time step equals to\n",
    "    # updating the whole network once.\n",
    "    for t in range(tmax):\n",
    "        for node in graph.nodes():\n",
    "            # Now we check if the node if susceptible to infection\n",
    "            # If it is, we need to determine the probability of it switching\n",
    "            # and then switch it for the next time-step\n",
    "            if graph.nodes[node][\"state\"][t] == \"S\":\n",
    "                # First determine how many infected neighbors the node has at time t:\n",
    "\n",
    "                # YOUR SOLUTION HERE\n",
    "\n",
    "                # Instead of drawing a bunch of random numbers for each neighbor\n",
    "                # we can just calculate the cumulative probability of getting\n",
    "                # infected since these events are independent and then just\n",
    "                # draw 1 random number to check against:\n",
    "                if np.random.random() < (1 - (1 - beta) ** num_inf_neighbors):\n",
    "                    # If infection occurs we add a 1 to the state list of the node.\n",
    "                    # Note that by doing this we don't change how the other\n",
    "                    # nodes update, because they will be using time index t not t+1\n",
    "                    graph.nodes[node][\"state\"].append(\"I\")\n",
    "\n",
    "                else:\n",
    "                    # If no infection occurs, then just append the current state (0)\n",
    "                    graph.nodes[node][\"state\"].append(\"S\")\n",
    "\n",
    "            # Similarly, if the node is already infected it can't change back\n",
    "            # So we append the current state if it wasn't susceptible\n",
    "            else:\n",
    "                graph.nodes[node][\"state\"].append(\"I\")\n",
    "                \n",
    "    # the function returns a time series of the fraction of infected in each time step as a list.\n",
    "    # YOUR SOLUTION HERE"
   ]
  },
  {
   "attachments": {},
   "cell_type": "markdown",
   "metadata": {
    "id": "Z-DB-9N4BltH"
   },
   "source": [
    "And there we have our SI model. The function is mostly comments, there are only a dozen lines of code involved in the whole process. Lets give it a run:"
   ]
  },
  {
   "cell_type": "code",
   "execution_count": 14,
   "metadata": {
    "colab": {
     "base_uri": "https://localhost:8080/",
     "height": 303
    },
    "executionInfo": {
     "elapsed": 1081,
     "status": "ok",
     "timestamp": 1648468028065,
     "user": {
      "displayName": "Yong Yeol Ahn",
      "photoUrl": "https://lh3.googleusercontent.com/a/default-user=s64",
      "userId": "00405984523192108505"
     },
     "user_tz": 240
    },
    "id": "3qjDbTvVBltH",
    "outputId": "3bb26a59-fd89-4339-a190-3b62923222ce"
   },
   "outputs": [
    {
     "data": {
      "image/png": "[encoded data removed]",
      "text/plain": [
       "<Figure size 640x480 with 1 Axes>"
      ]
     },
     "metadata": {},
     "output_type": "display_data"
    }
   ],
   "source": [
    "G = nx.barabasi_albert_graph(1000, 4)\n",
    "plt.plot(run_SI(G, tmax=20, beta=0.05, initial_inf=0.1))\n",
    "plt.xlabel(\"time\")\n",
    "plt.ylabel(\"fraction infected\")\n",
    "plt.show()"
   ]
  },
  {
   "cell_type": "markdown",
   "metadata": {},
   "source": [
    "Let's try aggregating results from multiple runs. Let's do 50 runs and plot them all to see the variation."
   ]
  },
  {
   "cell_type": "code",
   "execution_count": 15,
   "metadata": {
    "colab": {
     "base_uri": "https://localhost:8080/",
     "height": 303
    },
    "executionInfo": {
     "elapsed": 1697,
     "status": "ok",
     "timestamp": 1648468087684,
     "user": {
      "displayName": "Yong Yeol Ahn",
      "photoUrl": "https://lh3.googleusercontent.com/a/default-user=s64",
      "userId": "00405984523192108505"
     },
     "user_tz": 240
    },
    "id": "mf5smaShBltI",
    "outputId": "a9f6dc8a-f848-40d9-9db3-42042255d08a"
   },
   "outputs": [
    {
     "data": {
      "text/plain": [
       "[<matplotlib.lines.Line2D at 0x12c8eea50>]"
      ]
     },
     "execution_count": 15,
     "metadata": {},
     "output_type": "execute_result"
    },
    {
     "data": {
      "image/png": "[encoded data removed]",
      "text/plain": [
       "<Figure size 640x480 with 1 Axes>"
      ]
     },
     "metadata": {},
     "output_type": "display_data"
    }
   ],
   "source": [
    "# Plot individual runs in light grey with small alpha (more transparent) and the average in blue\n",
    "\n",
    "G = nx.barabasi_albert_graph(1000, 4)\n",
    "\n",
    "# YOUR SOLUTION HERE"
   ]
  },
  {
   "attachments": {},
   "cell_type": "markdown",
   "metadata": {
    "id": "71yaTNYFBltI"
   },
   "source": [
    "As you can see, it shows an S-shaped curve that is typical of the spread of infectious diseases. The number of infected nodes grows exponentially at first, then slows down to saturate as the number of susceptible nodes decreases. \n",
    "\n",
    "This type of average is commonly done, but a care must be taken when aggregating epidemic (forecast) curves. [A very nice paper by Jonas Juul et al.](https://www.nature.com/articles/s41567-020-01121-y) showed that this type of aggregation (fixed-time descriptive statistics) can underestimate extreme cases. \n",
    "\n",
    "<img src=\"https://yyiki.s3.us-east-2.amazonaws.com/public/imgs/juul_lehmann-pitfalls_in_using_fixed_time_desc_stat_in_epidemic_curve_ensembles.png\" width=600>"
   ]
  },
  {
   "cell_type": "markdown",
   "metadata": {},
   "source": [
    "As you can see, the median curve (the black solid line) heavily underestimate how high the peak is expected to be. Our simulation does not show this because everything is aligned to the same time step, but this was a very important insight in the early days of the COVID-19 pandemic, when it is difficult to forecast when the epidemic curve would take off. "
   ]
  },
  {
   "attachments": {},
   "cell_type": "markdown",
   "metadata": {
    "id": "K0X_c5sIBltI"
   },
   "source": [
    "## SIR model \n",
    "\n",
    "SI model is useful to understand the early stage behavior of the epidemic. But the most commonly used model is the SIR model. In this model, the infected nodes can recover and become immune. For the sake of simplicity, you can assume that there is a recovery probability parameter that is the same for all nodes. In each time step, each infected node can recover and becomes immune with this probability.\n",
    "\n",
    "**Q: implement the SIR model.**\n",
    "\n",
    "1. Implement `run_SIR()`. \n",
    "2. Make a function that runs the SIR model and then produces a plot of \"S\", \"I\", \"R\" states (number of nodes) over time from the run. Show them in the same plot. "
   ]
  },
  {
   "cell_type": "code",
   "execution_count": 115,
   "metadata": {},
   "outputs": [],
   "source": [
    "def run_SIR(graph: nx.Graph, tmax: int, beta: float, mu: float, initial_inf: float):\n",
    "    # YOUR SOLUTION HERE"
   ]
  }
 ],
 "metadata": {
  "anaconda-cloud": {},
  "colab": {
   "collapsed_sections": [],
   "name": "m10-networkepidemiology.ipynb",
   "provenance": [
    {
     "file_id": "https://github.com/yy/netsci-course/blob/master/m10-epidemics/epidemics_assignment.ipynb",
     "timestamp": 1648429000871
    }
   ]
  },
  "kernelspec": {
   "display_name": ".venv",
   "language": "python",
   "name": "python3"
  },
  "language_info": {
   "codemirror_mode": {
    "name": "ipython",
    "version": 3
   },
   "file_extension": ".py",
   "mimetype": "text/x-python",
   "name": "python",
   "nbconvert_exporter": "python",
   "pygments_lexer": "ipython3",
   "version": "3.11.11"
  }
 },
 "nbformat": 4,
 "nbformat_minor": 0
}
