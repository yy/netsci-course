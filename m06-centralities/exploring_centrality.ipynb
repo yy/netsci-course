{
 "cells": [
  {
   "cell_type": "markdown",
   "metadata": {},
   "source": [
    "# Node centrality assignment\n",
    "\n",
    "Let's explore some centrality measures so that we can build better intuition into them. We will use the [Dolphin social network](http://www-personal.umich.edu/~mejn/netdata/dolphins.zip). Download the graph and load it as a networkx graph using the [networkx's `read_gml` functions](https://networkx.github.io/documentation/stable/reference/readwrite/generated/networkx.readwrite.gml.read_gml.html#networkx.readwrite.gml.read_gml). "
   ]
  },
  {
   "cell_type": "code",
   "execution_count": null,
   "metadata": {},
   "outputs": [],
   "source": [
    "# Load your graph"
   ]
  },
  {
   "cell_type": "markdown",
   "metadata": {},
   "source": [
    "## Centrality in Networkx\n",
    "Networkx has several functions available for calculating the centralities of the nodes in the graph. There are functions for eigenvector, katz, closeness, betweenness, degree centralities, etc, which can be browsed [here](https://networkx.github.io/documentation/stable/reference/algorithms/centrality.html). The functions take a graph as an argument and return a dictionary with nodes as keys and the centrality as values. "
   ]
  },
  {
   "cell_type": "code",
   "execution_count": null,
   "metadata": {},
   "outputs": [],
   "source": [
    "import networkx as nx\n",
    "\n",
    "my_graph = nx.erdos_renyi_graph(500, 0.3)\n",
    "\n",
    "# Get the eigenvector centralities for all the nodes\n",
    "centralities = nx.eigenvector_centrality(my_graph)"
   ]
  },
  {
   "cell_type": "markdown",
   "metadata": {},
   "source": [
    "Next, we can set the centralities as attributes for the nodes in the graph using the [`set_node_attributes`](https://networkx.github.io/documentation/stable/reference/generated/networkx.classes.function.set_node_attributes.html#networkx.classes.function.set_node_attributes) function. For example:"
   ]
  },
  {
   "cell_type": "code",
   "execution_count": null,
   "metadata": {},
   "outputs": [],
   "source": [
    "# Set the attributes of the nodes to include the centralities\n",
    "# The arguments are: <graph> <values> <attribute key>\n",
    "# Where <values> is a dictionary with keys=nodes\n",
    "nx.set_node_attributes(my_graph,centralities, \"eigenvector\")\n",
    "\n",
    "# Now we can refer to the node's attributes in the graph\n",
    "print(my_graph.node[3][\"eigenvector\"])"
   ]
  },
  {
   "cell_type": "markdown",
   "metadata": {},
   "source": [
    "We want to do this so that we can export our graph as a `gexf` file using networkx's [`write_gexf`](https://networkx.github.io/documentation/networkx-2.0/reference/readwrite/gexf.html) function. Gexf is able to contain a lot more information than other graph datatypes like pajek. It can contain information about the node attributes or edge attributes that belong to the graph and then these attributes will be recognized by Gephi for plotting. Once the graph is saved and you open it in Gephi, you can use the node (or edge) attributes to control node (or edge) size and color. This can be done by clicking the refresh button by the drop-down menu for node/edge sizing and coloring (refer back to the Gephi tutorial if you are unfamiliar with this). Your attributes will be loaded in using whatever name you used as an `<attribute key>`.\n",
    "\n",
    "Alternatively, if you use Cytoscape, or even if you use Gephi, you can prepare two CSV files, one for the node properties and the other for the edge properties. This is actually more portable because both Gephi and Cytoscape can read it and it is easy to maintain because they are just plain text CSV files. The node property file can have columns like: \"ID\", \"NODE_LABEL\", \"EIGENVECTOR_CENTRALITY\", etc. and the edge property file can have columns such as \"EDGE_ID\", \"SOURCE\", \"TARGET\", \"WEIGHT\", etc. (Btw, Gephi requires [certain column names](https://seinecle.github.io/gephi-tutorials/generated-html/importing-csv-data-in-gephi-en.html)) \n",
    "\n",
    "Choose an informative layout and then arrange your nodes accordingly and then save separate visualizations that only change the node color/size according to your attributes. You will be using this ability for the following questions.\n",
    "\n",
    "**What to submit**: Turn in a PDF that contains your short responses and the visualizations for each of the following questions. **Keep the node location the same** for your graph visualizations.\n",
    "\n",
    "## Picking the right Dolphins\n",
    "Answer the following questions:\n",
    "\n",
    "#### (1) Popularity contest\n",
    "We want to know who the top dolphins are in the network, the real centers of attraction. Using what you learned about centrality from the readings and videos, choose an appropriate centrality measure that will tell us who those dolphins are. Justify your decision and list who the important dolphins are.\n",
    "\n",
    "#### (2) Relay\n",
    "Dolphins like passing information around efficiently along the shortest-paths. Among their neighbors who are the most important message relayers in the network? Justify your centrality choice for finding these dolphins.\n",
    "\n",
    "#### (3) Gossip \n",
    "There is a lot smack going around the pod and everyone wants to know if Flipper will be inviting them to the party next week. But gossip takes time to travel. Which dolphins are in the best position for getting all the best gossip from around the pod? Justify your centrality choice for finding these dolphins."
   ]
  },
  {
   "cell_type": "code",
   "execution_count": null,
   "metadata": {},
   "outputs": [],
   "source": []
  }
 ],
 "metadata": {
  "kernelspec": {
   "display_name": "Python 3",
   "language": "python",
   "name": "python3"
  },
  "language_info": {
   "codemirror_mode": {
    "name": "ipython",
    "version": 3
   },
   "file_extension": ".py",
   "mimetype": "text/x-python",
   "name": "python",
   "nbconvert_exporter": "python",
   "pygments_lexer": "ipython3",
   "version": "3.6.7"
  }
 },
 "nbformat": 4,
 "nbformat_minor": 2
}
