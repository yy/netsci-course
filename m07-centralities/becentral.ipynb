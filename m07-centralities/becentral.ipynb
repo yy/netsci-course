{
 "cells": [
  {
   "cell_type": "markdown",
   "metadata": {},
   "source": [
    "<table class=\"m01-notebook-buttons\" align=\"left\">\n",
    "  <td>\n",
    "    <a target=\"_blank\" href=\"https://colab.research.google.com/github/yy/netsci-course/blob/master/m07-centralities/becentral.ipynb\"><img src=\"https://www.tensorflow.org/images/colab_logo_32px.png\" />Run in Google Colab</a>\n",
    "  </td>\n",
    "  <td>\n",
    "    <a href=\"https://github.com/yy/netsci-course/blob/master/m07-centralities/becentral.ipynb\"><img src=\"https://www.tensorflow.org/images/GitHub-Mark-32px.png\" />View on Github</a>\n",
    "  </td>\n",
    "</table>"
   ]
  },
  {
   "cell_type": "markdown",
   "metadata": {},
   "source": [
    "# Be central!\n",
    "\n",
    "I'll give each one of you 5 outgoing edges and 2 incoming edges. Multi-edges are not allowed. There should be only one edge with the same origin and target. The goal is to negotiate with others so that you have the highest centralities. \n",
    "\n",
    "There are four challenges:\n",
    "\n",
    "- In-degree\n",
    "- PageRank\n",
    "- Betweenness centrality\n",
    "- Closeness centrality\n",
    "\n",
    "The name of your node is your first name (lowercase). "
   ]
  },
  {
   "cell_type": "code",
   "execution_count": 8,
   "metadata": {
    "collapsed": false
   },
   "outputs": [
    {
     "data": {
      "text/plain": [
       "[['xx', 'yy'], ['zz', 'yy'], ['yy', 'aa']]"
      ]
     },
     "execution_count": 8,
     "metadata": {},
     "output_type": "execute_result"
    }
   ],
   "source": [
    "firstnames = []\n",
    "\n",
    "edge_str = \"\"\"\n",
    "xx yy\n",
    "zz yy\n",
    "yy aa\n",
    "\"\"\"\n",
    "\n",
    "edge_list = [x.split() for x in edge_str.strip().splitlines()]\n",
    "edge_list"
   ]
  },
  {
   "cell_type": "code",
   "execution_count": 9,
   "metadata": {},
   "outputs": [
    {
     "name": "stdout",
     "output_type": "stream",
     "text": [
      "Name: \n",
      "Type: DiGraph\n",
      "Number of nodes: 4\n",
      "Number of edges: 3\n",
      "Average in degree:   0.7500\n",
      "Average out degree:   0.7500\n"
     ]
    }
   ],
   "source": [
    "import networkx as nx\n",
    "G = nx.DiGraph(edge_list)\n",
    "print(nx.info(G))"
   ]
  },
  {
   "cell_type": "markdown",
   "metadata": {},
   "source": [
    "# Consistency test"
   ]
  },
  {
   "cell_type": "code",
   "execution_count": 23,
   "metadata": {
    "collapsed": false
   },
   "outputs": [
    {
     "name": "stdout",
     "output_type": "stream",
     "text": [
      "xx, yy: some names are wrong\n",
      "zz, yy: some names are wrong\n",
      "yy, aa: some names are wrong\n"
     ]
    }
   ],
   "source": [
    "# namespace test\n",
    "for u,v in edge_list:\n",
    "    if u not in firstnames or v not in firstnames:\n",
    "        print('{}, {}: some names are wrong'.format(u, v))"
   ]
  },
  {
   "cell_type": "markdown",
   "metadata": {},
   "source": [
    "# In-degree"
   ]
  },
  {
   "cell_type": "code",
   "execution_count": 22,
   "metadata": {
    "collapsed": false
   },
   "outputs": [
    {
     "name": "stdout",
     "output_type": "stream",
     "text": [
      "yy         2         \n",
      "aa         1         \n",
      "xx         0         \n",
      "zz         0         \n"
     ]
    }
   ],
   "source": [
    "for n, deg in sorted(G.in_degree(), key=lambda x: x[1], reverse=True):\n",
    "    print('{:<10} {:<10}'.format(n, deg))"
   ]
  },
  {
   "cell_type": "markdown",
   "metadata": {},
   "source": [
    "# PageRank"
   ]
  },
  {
   "cell_type": "code",
   "execution_count": 26,
   "metadata": {
    "collapsed": false
   },
   "outputs": [
    {
     "name": "stdout",
     "output_type": "stream",
     "text": [
      "aa         0.412133\n",
      "yy         0.337711\n",
      "xx         0.125078\n",
      "zz         0.125078\n"
     ]
    }
   ],
   "source": [
    "pr = nx.pagerank(G)\n",
    "for n, p in sorted(pr.items(), key=lambda x: x[1], reverse=True):\n",
    "    print('{:<10} {:f}'.format(n, p))"
   ]
  },
  {
   "cell_type": "markdown",
   "metadata": {},
   "source": [
    "# Betweenness centrality"
   ]
  },
  {
   "cell_type": "code",
   "execution_count": 27,
   "metadata": {
    "collapsed": false
   },
   "outputs": [
    {
     "name": "stdout",
     "output_type": "stream",
     "text": [
      "yy         0.333333\n",
      "xx         0.000000\n",
      "zz         0.000000\n",
      "aa         0.000000\n"
     ]
    }
   ],
   "source": [
    "betw = nx.algorithms.betweenness_centrality(G)\n",
    "for n, b in sorted(betw.items(), key=lambda x: x[1], reverse=True):\n",
    "    print('{:<10} {:f}'.format(n, b))"
   ]
  },
  {
   "cell_type": "markdown",
   "metadata": {},
   "source": [
    "# Closeness centrality"
   ]
  },
  {
   "cell_type": "code",
   "execution_count": 28,
   "metadata": {
    "collapsed": false
   },
   "outputs": [
    {
     "name": "stdout",
     "output_type": "stream",
     "text": [
      "yy         0.666667\n",
      "aa         0.600000\n",
      "xx         0.000000\n",
      "zz         0.000000\n"
     ]
    }
   ],
   "source": [
    "cl = nx.algorithms.closeness_centrality(G)\n",
    "for n, c in sorted(cl.items(), key=lambda x: x[1], reverse=True):\n",
    "    print('{:<10} {:f}'.format(n, c))"
   ]
  },
  {
   "cell_type": "code",
   "execution_count": 41,
   "metadata": {
    "collapsed": false
   },
   "outputs": [
    {
     "data": {
      "image/png": "[encoded data removed]",
      "text/plain": [
       "<Figure size 720x720 with 1 Axes>"
      ]
     },
     "metadata": {},
     "output_type": "display_data"
    }
   ],
   "source": [
    "import matplotlib.pyplot as plt\n",
    "%matplotlib inline  \n",
    "plt.figure(figsize=(10,10))\n",
    "nx.draw_networkx(G, with_labels=True)"
   ]
  }
 ],
 "metadata": {
  "kernelspec": {
   "display_name": "Python 3",
   "language": "python",
   "name": "python3"
  },
  "language_info": {
   "codemirror_mode": {
    "name": "ipython",
    "version": 3
   },
   "file_extension": ".py",
   "mimetype": "text/x-python",
   "name": "python",
   "nbconvert_exporter": "python",
   "pygments_lexer": "ipython3",
   "version": "3.6.5"
  }
 },
 "nbformat": 4,
 "nbformat_minor": 2
}
