{
 "cells": [
  {
   "cell_type": "markdown",
   "metadata": {},
   "source": [
    "# Praxis: Fitting power-laws to data\n",
    "In this assigment we will be combining what we learned this week to fit a power-law to some data and then visualize both the power-law and the fit.\n",
    "\n",
    "## (1) Getting the data\n",
    "First we need to generate some data to fit to. We will use the degree distribution from the Barabasi-Albert graph because we know that it is power-law distributed. Create a BA graph using networkx with `n = 2500` and `m = 8` (adjust `n` or `m` if your computer has difficulty creating the graph ).\n",
    "\n",
    "Then build a list/array of the node degrees."
   ]
  },
  {
   "cell_type": "code",
   "execution_count": null,
   "metadata": {
    "collapsed": true
   },
   "outputs": [],
   "source": [
    "# your code here"
   ]
  },
  {
   "cell_type": "markdown",
   "metadata": {},
   "source": [
    "## (2) Find the power-law cut-off\n",
    "It is normally the case in power-law distributed data that there is a value below which the power-law relation does not hold. We will express this value as `xmin`. In order to fit the scaling exponent, we first need to estimate `xmin` and then discard all values in the distribution below it.\n",
    "\n",
    "Since calculating the optimal `xmin` can be a challenge in itself, you can use Aaron Clauset's [powerlaw](http://tuvalu.santafe.edu/~aaronc/powerlaws/) package to determine `xmin`. The package can be installed using pip from the commandline: `pip install powerlaw`\n",
    "\n",
    "The package should then be available for import:\n",
    "\n",
    "```\n",
    "import powerlaw\n",
    "```\n",
    "\n",
    "And can be called using (see [documentation for additional arguments](http://arxiv.org/pdf/1305.0215v3.pdf)):\n",
    "\n",
    "```\n",
    "fit = powerlaw.Fit(some_data) \n",
    "print(fit.xmin)\n",
    "```\n",
    "\n",
    "Alternatively, you can get a rough estimate of the cut-off yourself by visualizing the power-law."
   ]
  },
  {
   "cell_type": "code",
   "execution_count": null,
   "metadata": {
    "collapsed": true
   },
   "outputs": [],
   "source": [
    "# Find xmin and adjust data (your code here)"
   ]
  },
  {
   "cell_type": "markdown",
   "metadata": {},
   "source": [
    "## (3) Find scaling exponent\n",
    "With the data available and `xmin` estimated we can now estimate the scaling exponent for our degree distribution. Use the maximum-likelihood approach to estimate the scaling exponent (see equation 3.7 from [the reading](https://iu.instructure.com/courses/1564562/files/64585579?module_item_id=15083021))."
   ]
  },
  {
   "cell_type": "code",
   "execution_count": null,
   "metadata": {
    "collapsed": true
   },
   "outputs": [],
   "source": [
    "# Your code here"
   ]
  },
  {
   "cell_type": "markdown",
   "metadata": {},
   "source": [
    "## (4) Visualize the power-law\n",
    "Plot the CCDF of the power-law along with a best-fit line made using your estimated scaling exponent. If the fit is good, it should fall right on-top of the data-points on the CCDF plot."
   ]
  },
  {
   "cell_type": "code",
   "execution_count": null,
   "metadata": {
    "collapsed": true
   },
   "outputs": [],
   "source": [
    "# Your visualization code here"
   ]
  },
  {
   "cell_type": "markdown",
   "metadata": {},
   "source": [
    "# Using your own data\n",
    "Now that you have done the fit and visualization for the BA graph, find your graph or other data and repeat the analysis. You are welcome to use data from this [graph website](http://www-personal.umich.edu/~mejn/netdata/), [Clauset's work](http://tuvalu.santafe.edu/~aaronc/powerlaws/data.htm), or from whatever real-world graphs you can find. Make sure to include the graph or data file when uploading this notebook (and avoid using a huge dataset)."
   ]
  },
  {
   "cell_type": "markdown",
   "metadata": {},
   "source": [
    "### (1) Getting real-world distribution"
   ]
  },
  {
   "cell_type": "code",
   "execution_count": null,
   "metadata": {
    "collapsed": true
   },
   "outputs": [],
   "source": [
    "# Your code here"
   ]
  },
  {
   "cell_type": "markdown",
   "metadata": {},
   "source": [
    "### (2) Finding cut-off"
   ]
  },
  {
   "cell_type": "code",
   "execution_count": null,
   "metadata": {
    "collapsed": true
   },
   "outputs": [],
   "source": [
    "# Your code here"
   ]
  },
  {
   "cell_type": "markdown",
   "metadata": {},
   "source": [
    "### (3) Estimating scaling exponent"
   ]
  },
  {
   "cell_type": "code",
   "execution_count": null,
   "metadata": {
    "collapsed": true
   },
   "outputs": [],
   "source": [
    "# Your code here"
   ]
  },
  {
   "cell_type": "markdown",
   "metadata": {},
   "source": [
    "### (4) Visualize power-law and best-fit"
   ]
  },
  {
   "cell_type": "code",
   "execution_count": null,
   "metadata": {
    "collapsed": true
   },
   "outputs": [],
   "source": [
    "# Your code here"
   ]
  }
 ],
 "metadata": {
  "kernelspec": {
   "display_name": "Python [Root]",
   "language": "python",
   "name": "Python [Root]"
  },
  "language_info": {
   "codemirror_mode": {
    "name": "ipython",
    "version": 3
   },
   "file_extension": ".py",
   "mimetype": "text/x-python",
   "name": "python",
   "nbconvert_exporter": "python",
   "pygments_lexer": "ipython3",
   "version": "3.5.2"
  }
 },
 "nbformat": 4,
 "nbformat_minor": 0
}
